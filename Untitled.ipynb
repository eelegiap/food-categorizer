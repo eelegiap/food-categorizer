{
 "cells": [
  {
   "cell_type": "code",
   "execution_count": 1,
   "id": "64929592-dc36-44fc-a255-27c0aba0bfeb",
   "metadata": {},
   "outputs": [],
   "source": [
    "import pandas as pd\n",
    "import random\n",
    "import numpy as np"
   ]
  },
  {
   "cell_type": "code",
   "execution_count": 2,
   "id": "0106d8de-701a-4a1f-b895-3b8177c6b7eb",
   "metadata": {},
   "outputs": [
    {
     "name": "stdout",
     "output_type": "stream",
     "text": [
      "Procfile          app.py            requirements.txt  \u001b[34mtemplates\u001b[m\u001b[m/\n",
      "Untitled.ipynb    keywords.txt      runtime.txt       \u001b[34mvenv\u001b[m\u001b[m/\n",
      "\u001b[34m__pycache__\u001b[m\u001b[m/      notkeywords.txt   \u001b[34mstatic\u001b[m\u001b[m/\n"
     ]
    }
   ],
   "source": [
    "ls"
   ]
  },
  {
   "cell_type": "code",
   "execution_count": 7,
   "id": "9694418f-c166-442c-afaa-6d9b1ad423e5",
   "metadata": {},
   "outputs": [],
   "source": [
    "df = pd.read_excel('../HBS_2022_collated_input_FIXED-TYPE.xlsx')"
   ]
  },
  {
   "cell_type": "code",
   "execution_count": 8,
   "id": "d915b7db-5efa-4fb6-b1b1-c3afe785bab2",
   "metadata": {},
   "outputs": [],
   "source": [
    "records = df.to_dict('records')"
   ]
  },
  {
   "cell_type": "code",
   "execution_count": 9,
   "id": "9d03f9eb-41f0-4a2d-89ce-66d0821e7443",
   "metadata": {},
   "outputs": [
    {
     "data": {
      "text/plain": [
       "{'Unnamed: 0': 0,\n",
       " 'Item Name': 'BANANA READY TO GO NO 6 40 LB',\n",
       " 'Dollars': 7540.96}"
      ]
     },
     "execution_count": 9,
     "metadata": {},
     "output_type": "execute_result"
    }
   ],
   "source": [
    "records[0]"
   ]
  },
  {
   "cell_type": "code",
   "execution_count": 6,
   "id": "48f7136d-594d-4c28-ad4e-2cf67e0e2ff3",
   "metadata": {},
   "outputs": [
    {
     "name": "stdout",
     "output_type": "stream",
     "text": [
      "{'Item Name': nan, 'Dollars': 4181.14}\n"
     ]
    }
   ],
   "source": [
    "for rec in records:\n",
    "    if type(rec['Item Name'])!=str:\n",
    "        print(rec)"
   ]
  },
  {
   "cell_type": "code",
   "execution_count": 17,
   "id": "9e58e15a-d3e7-4e14-acd6-123b071b4061",
   "metadata": {},
   "outputs": [],
   "source": [
    "types = dict()\n",
    "for rec in records:\n",
    "    if type(rec['Dollars']) == str:\n",
    "        rec['Dollars'] = float(rec['Dollars'].replace(' ',''))"
   ]
  },
  {
   "cell_type": "code",
   "execution_count": null,
   "id": "4e7b9fed-5a99-469f-91a7-80a429e2ace0",
   "metadata": {},
   "outputs": [],
   "source": [
    "pd.DataFrame.from_records(records)"
   ]
  }
 ],
 "metadata": {
  "kernelspec": {
   "display_name": "Python 3 (ipykernel)",
   "language": "python",
   "name": "python3"
  },
  "language_info": {
   "codemirror_mode": {
    "name": "ipython",
    "version": 3
   },
   "file_extension": ".py",
   "mimetype": "text/x-python",
   "name": "python",
   "nbconvert_exporter": "python",
   "pygments_lexer": "ipython3",
   "version": "3.9.7"
  }
 },
 "nbformat": 4,
 "nbformat_minor": 5
}
